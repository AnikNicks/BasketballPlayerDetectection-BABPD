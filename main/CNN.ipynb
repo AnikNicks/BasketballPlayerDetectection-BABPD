{
 "cells": [
  {
   "cell_type": "code",
   "execution_count": 1,
   "metadata": {},
   "outputs": [],
   "source": [
    "import numpy as np\n",
    "import matplotlib.pyplot as plt\n",
    "import os\n",
    "import cv2\n",
    "import random"
   ]
  },
  {
   "cell_type": "code",
   "execution_count": 2,
   "metadata": {},
   "outputs": [
    {
     "name": "stdout",
     "output_type": "stream",
     "text": [
      "394\n"
     ]
    }
   ],
   "source": [
    "DIR = \"/Users/esedicol/Desktop/Desktop/FYP/images/\"\n",
    "CATEGORIES = [\"basketball\", \"hoop\"]\n",
    "data = []\n",
    "\n",
    "for category in CATEGORIES: \n",
    "    class_label = CATEGORIES.index(category)\n",
    "    path = f'{DIR}{category}'\n",
    "    for img in os.listdir(path): \n",
    "        img_path = f'{path}/{img}'\n",
    "        try:\n",
    "            img_array = cv2.imread(img_path ,cv2.IMREAD_GRAYSCALE)\n",
    "            image = cv2.resize(img_array, (80, 80))\n",
    "            data.append([image, class_label]) \n",
    "        except Exception as e: \n",
    "            pass\n",
    "        \n",
    "random.shuffle(data)\n",
    "        \n",
    "print(len(data))"
   ]
  },
  {
   "cell_type": "code",
   "execution_count": 3,
   "metadata": {},
   "outputs": [],
   "source": [
    "x = []\n",
    "y = []\n",
    "\n",
    "for features,label in data:\n",
    "    x.append(features)\n",
    "    y.append(label)\n",
    "\n",
    "x = np.array(x).reshape(-1, 80, 80, 1)\n",
    "Y = np.array(y)\n",
    "\n",
    "X = x/255.0"
   ]
  },
  {
   "cell_type": "code",
   "execution_count": 4,
   "metadata": {},
   "outputs": [],
   "source": [
    "import tensorflow as tf\n",
    "from tensorflow.keras.datasets import cifar10\n",
    "from tensorflow.keras.preprocessing.image import ImageDataGenerator\n",
    "from tensorflow.keras.models import Sequential\n",
    "from tensorflow.keras.layers import Dense, Dropout, Activation, Flatten\n",
    "from tensorflow.keras.layers import Conv2D, MaxPooling2D"
   ]
  },
  {
   "cell_type": "code",
   "execution_count": 5,
   "metadata": {},
   "outputs": [
    {
     "name": "stdout",
     "output_type": "stream",
     "text": [
      "Train on 354 samples, validate on 40 samples\n",
      "Epoch 1/8\n",
      "354/354 [==============================] - 5s 14ms/sample - loss: 1.8678 - accuracy: 0.6271 - val_loss: 0.9172 - val_accuracy: 0.6500\n",
      "Epoch 2/8\n",
      "354/354 [==============================] - 4s 13ms/sample - loss: 0.3027 - accuracy: 0.8955 - val_loss: 0.2737 - val_accuracy: 0.9250\n",
      "Epoch 3/8\n",
      "354/354 [==============================] - 4s 12ms/sample - loss: 0.1129 - accuracy: 0.9718 - val_loss: 0.3538 - val_accuracy: 0.9000\n",
      "Epoch 4/8\n",
      "354/354 [==============================] - 5s 13ms/sample - loss: 0.0937 - accuracy: 0.9689 - val_loss: 1.2368 - val_accuracy: 0.7500\n",
      "Epoch 5/8\n",
      "354/354 [==============================] - 8s 23ms/sample - loss: 0.5044 - accuracy: 0.8672 - val_loss: 0.4533 - val_accuracy: 0.8500\n",
      "Epoch 6/8\n",
      "354/354 [==============================] - 8s 22ms/sample - loss: 0.1222 - accuracy: 0.9605 - val_loss: 0.2871 - val_accuracy: 0.8500\n",
      "Epoch 7/8\n",
      "354/354 [==============================] - 5s 15ms/sample - loss: 0.0673 - accuracy: 0.9802 - val_loss: 0.2257 - val_accuracy: 0.8750\n",
      "Epoch 8/8\n",
      "354/354 [==============================] - 5s 16ms/sample - loss: 0.0479 - accuracy: 0.9859 - val_loss: 0.3139 - val_accuracy: 0.9250\n",
      "WARNING:tensorflow:From /usr/local/lib/python3.7/site-packages/tensorflow_core/python/ops/resource_variable_ops.py:1786: calling BaseResourceVariable.__init__ (from tensorflow.python.ops.resource_variable_ops) with constraint is deprecated and will be removed in a future version.\n",
      "Instructions for updating:\n",
      "If using Keras pass *_constraint arguments to layers.\n",
      "INFO:tensorflow:Assets written to: /Users/esedicol/Desktop/Desktop/FYP/Ball_Tracking/POSE_ESTIMATION/CNN_MODEL/assets\n"
     ]
    }
   ],
   "source": [
    "model = Sequential()\n",
    "\n",
    "model.add(Conv2D(64, (2, 2), input_shape=X.shape[1:]))\n",
    "model.add(Activation('relu'))\n",
    "model.add(MaxPooling2D(pool_size=(2, 2)))\n",
    "model.add(Conv2D(256, (3, 3)))\n",
    "model.add(Activation('relu'))\n",
    "model.add(MaxPooling2D(pool_size=(2, 2)))\n",
    "model.add(Flatten())  # this converts our 3D feature maps to 1D feature vectors\n",
    "model.add(Dense(64))\n",
    "model.add(Dense(1))\n",
    "model.add(Activation('sigmoid'))\n",
    "\n",
    "model.compile(loss='binary_crossentropy',optimizer='adam',metrics=['accuracy'])\n",
    "\n",
    "model.fit(X, Y, batch_size=32, epochs=8, validation_split=0.1)\n",
    "model.save('/Users/esedicol/Desktop/Desktop/FYP/Ball_Tracking/POSE_ESTIMATION/CNN_MODEL')"
   ]
  },
  {
   "cell_type": "code",
   "execution_count": 6,
   "metadata": {},
   "outputs": [],
   "source": [
    "def prepare(filepath):\n",
    "    img_array = cv2.imread(filepath, cv2.IMREAD_GRAYSCALE)  # read in the image, convert to grayscale\n",
    "    new_array = cv2.resize(img_array, (80, 80))  # resize image to match model's expected sizing\n",
    "    return new_array.reshape(-1, 80, 80, 1)"
   ]
  },
  {
   "cell_type": "code",
   "execution_count": 11,
   "metadata": {},
   "outputs": [
    {
     "name": "stdout",
     "output_type": "stream",
     "text": [
      "hoop\n"
     ]
    }
   ],
   "source": [
    "m = tf.keras.models.load_model('/Users/esedicol/Desktop/Desktop/FYP/Ball_Tracking/POSE_ESTIMATION/CNN_MODEL')\n",
    "prediction = model.predict([prepare('/Users/esedicol/Desktop/Desktop/FYP/images/test/hoop2.jpg')])\n",
    "print(CATEGORIES[int(prediction[0][0])])"
   ]
  },
  {
   "cell_type": "code",
   "execution_count": null,
   "metadata": {},
   "outputs": [],
   "source": []
  }
 ],
 "metadata": {
  "kernelspec": {
   "display_name": "Python 3",
   "language": "python",
   "name": "python3"
  },
  "language_info": {
   "codemirror_mode": {
    "name": "ipython",
    "version": 3
   },
   "file_extension": ".py",
   "mimetype": "text/x-python",
   "name": "python",
   "nbconvert_exporter": "python",
   "pygments_lexer": "ipython3",
   "version": "3.7.5"
  }
 },
 "nbformat": 4,
 "nbformat_minor": 4
}
