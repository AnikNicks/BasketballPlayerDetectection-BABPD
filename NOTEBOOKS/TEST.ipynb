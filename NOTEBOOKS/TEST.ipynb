{
 "cells": [
  {
   "cell_type": "code",
   "execution_count": 18,
   "metadata": {},
   "outputs": [
    {
     "ename": "SyntaxError",
     "evalue": "invalid syntax (<ipython-input-18-6361254f42c9>, line 15)",
     "output_type": "error",
     "traceback": [
      "\u001b[0;36m  File \u001b[0;32m\"<ipython-input-18-6361254f42c9>\"\u001b[0;36m, line \u001b[0;32m15\u001b[0m\n\u001b[0;31m    from /Users/esedicol/Desktop/Basketball-Shot-Detectection/YOLO import yolo\u001b[0m\n\u001b[0m         ^\u001b[0m\n\u001b[0;31mSyntaxError\u001b[0m\u001b[0;31m:\u001b[0m invalid syntax\n"
     ]
    }
   ],
   "source": [
    "# Author Emmanuel Sedicol\n",
    "from imutils.video import VideoStream\n",
    "from imutils.video import FPS\n",
    "import numpy as np\n",
    "import argparse\n",
    "import cv2\n",
    "import imutils\n",
    "import matplotlib.pyplot as plt\n",
    "import tensorflow as tf\n",
    "import sys, os\n",
    "\n",
    "x = sys.path.append(os.path.abspath('/Users/esedicol/Desktop/Basketball-Shot-Detectection/'))\n",
    "print(x)\n",
    "# # Now do your import\n",
    "from /Users/esedicol/Desktop/Basketball-Shot-Detectection/YOLO import yolo\n",
    "\n",
    "# from IPython.display import clear_output\n",
    "\n",
    "# shot_xy_coordinates = []\n",
    "# player_xy_coordinates = []\n",
    "# ball_xy_coordinates = []\n",
    "\n",
    "# orangeLower = (1, 80, 110)\n",
    "# orangeUpper = (8,200,175)\n",
    "\n",
    "# CATEGORIES = ['basketball', 'hoop']\n",
    "# model = tf.keras.models.load_model(\"/Users/esedicol/Desktop/Basketball-Shot-Detectection/MODEL\")"
   ]
  },
  {
   "cell_type": "markdown",
   "metadata": {},
   "source": [
    "# Inner Functions"
   ]
  },
  {
   "cell_type": "code",
   "execution_count": 17,
   "metadata": {},
   "outputs": [
    {
     "name": "stdout",
     "output_type": "stream",
     "text": [
      "['/Users/esedicol/Desktop/Basketball-Shot-Detectection/NOTEBOOKS', '/usr/local/Cellar/python/3.7.7/Frameworks/Python.framework/Versions/3.7/lib/python37.zip', '/usr/local/Cellar/python/3.7.7/Frameworks/Python.framework/Versions/3.7/lib/python3.7', '/usr/local/Cellar/python/3.7.7/Frameworks/Python.framework/Versions/3.7/lib/python3.7/lib-dynload', '', '/Users/esedicol/Library/Python/3.7/lib/python/site-packages', '/usr/local/lib/python3.7/site-packages', '/usr/local/lib/python3.7/site-packages/tf_pose-0.1.1-py3.7-macosx-10.15-x86_64.egg', '/usr/local/lib/python3.7/site-packages/dill-0.2.7.1-py3.7.egg', '/usr/local/lib/python3.7/site-packages', '/usr/local/lib/python3.7/site-packages/IPython/extensions', '/Users/esedicol/.ipython', '/Users/esedicol/Desktop/Basketball-Shot-Detectection/config', '/Users/esedicol/Desktop/Basketball-Shot-Detectection/config', '/Users/esedicol/Desktop/Basketball-Shot-Detectection/config', '/Users/esedicol/Desktop/Basketball-Shot-Detectection/config', '/Users/esedicol/Desktop/Basketball-Shot-Detectection/YOLO', '/Users/esedicol/Desktop/Basketball-Shot-Detectection/YOLO', '/Users/esedicol/Desktop/Basketball-Shot-Detectection/YOLO', '/Users/esedicol/Desktop/Basketball-Shot-Detectection/YOLO', '/Users/esedicol/Desktop/Basketball-Shot-Detectection/lol', '/Users/esedicol/Desktop/Basketball-Shot-Detectection/YOLO', '/Users/esedicol/Desktop/Basketball-Shot-Detectection']\n"
     ]
    }
   ],
   "source": [
    "import sys\n",
    "print (sys.path)"
   ]
  },
  {
   "cell_type": "code",
   "execution_count": null,
   "metadata": {},
   "outputs": [],
   "source": [
    "# prepare the detected frame for classification\n",
    "def predict_object(frame):\n",
    "    img = cv2.resize(cv2.cvtColor(frame, cv2.COLOR_BGR2GRAY), (80,80))\n",
    "    img = img.reshape(-1, 80, 80, 1)\n",
    "    \n",
    "    # predict image\n",
    "    prediction = model.predict([img])\n",
    "    prediction_label = CATEGORIES[int(prediction[0][0])]\n",
    "    return(prediction_label)\n",
    "\n",
    "# color detection is lower and upper hsv range\n",
    "def color_detection(hsv,lower,higher):\n",
    "    # create mask to detect the orange only\n",
    "    mask = cv2.inRange(hsv, lower, higher)\n",
    "\n",
    "    # find contours in the mask and initialize the current\n",
    "    cnts = cv2.findContours(mask.copy(), cv2.RETR_TREE, cv2.CHAIN_APPROX_SIMPLE)\n",
    "    cnts = imutils.grab_contours(cnts)\n",
    "    return cnts"
   ]
  },
  {
   "cell_type": "markdown",
   "metadata": {},
   "source": [
    "# Ball Detection Test"
   ]
  },
  {
   "cell_type": "code",
   "execution_count": null,
   "metadata": {},
   "outputs": [],
   "source": [
    "path = \"VIDEOS/BALL_DETECTION_TEST.mov\"\n",
    "\n",
    "vs = cv2.VideoCapture(path)\n",
    "fps = FPS().start()\n",
    "\n",
    "while True:\n",
    "    # grab the current frame\n",
    "    _,frame = vs.read()\n",
    "\n",
    "    # break out of the application if we have no more frames to read\n",
    "    if frame is None:\n",
    "        break\n",
    "\n",
    "    # resize frame so to make its constant size througout\n",
    "    frame = cv2.resize(frame,(600, 400))\n",
    "    detected_object = frame.copy()\n",
    "\n",
    "    # frame filtering and image processing\n",
    "    blur = cv2.GaussianBlur(frame, (15, 15),0)\n",
    "    erode = cv2.erode(blur, None, iterations=2)\n",
    "    dilate = cv2.dilate(erode, None, iterations=2)\n",
    "    hsv = cv2.cvtColor(dilate, cv2.COLOR_BGR2HSV)\n",
    "\n",
    "    # detect basketball using its color (i.e. orange)\n",
    "    cnts = color_detection(hsv,orangeLower,orangeUpper)\n",
    "\n",
    "    # Retrieve the largest contour in the mask, then use it to compute the minimum enclosing circle and centroid\n",
    "    c = max(cnts, key=cv2.contourArea)\n",
    "    ((x, y), radius) = cv2.minEnclosingCircle(c)\n",
    "\n",
    "    if  len(cnts) > 0:      \n",
    "        # only proceed if the radius meets a minimum size\n",
    "        if radius > 0 and radius < 30 :\n",
    "            # Retrive the frame of detected ball\n",
    "            detected_object = detected_object[int(y - 20):int(y + 20),int(x - 20):int(x + 20)] \n",
    "\n",
    "            # detect ball using the model I built\n",
    "            if predict_object(detected_object) == \"basketball\" :\n",
    "                \n",
    "                # Append (x,y) coordinates \n",
    "                shot_xy_coordinates.append((x,y))\n",
    "                \n",
    "                # Draw the circle and centroid on the frame\n",
    "                cv2.circle(frame, (int(x), int(y)), int(radius),(0, 255, 255), 2)\n",
    "                cv2.circle(frame, (int(x), int(y)), 1, (0, 0, 255), 2)\n",
    "\n",
    "                # Draw rectangle around the minimum enclosed circle and dipslay label of detected object\n",
    "                cv2.rectangle(frame, (int(x - 20), int(y - 20)), (int(x + 20), int(y + 20)), (255,0,0), 2)\n",
    "                cv2.putText(frame, \"BASKETBALL\", (int(x - 30), int(y - 25)), cv2.FONT_HERSHEY_SIMPLEX, 0.4, (255, 255, 0), 1 )\n",
    "\n",
    "    # plot results\n",
    "    fig, (ax1, ax2) = plt.subplots(1, 2, figsize=(24, 8))\n",
    "    fig.suptitle('Basketball and Player Detection')\n",
    "    ax1.imshow(cv2.cvtColor(frame, cv2.COLOR_BGR2RGB))\n",
    "\n",
    "    # plot at realtime the shot coordinates\n",
    "    for x in range(0, len(shot_xy_coordinates)):\n",
    "        ax2.scatter(shot_xy_coordinates[x][0], shot_xy_coordinates[x][1])\n",
    "\n",
    "    # Plot Limit equals the size of the frame\n",
    "    ax2.set_xlim(0, 600)\n",
    "    ax2.set_ylim(0,400)\n",
    "    ax2.invert_yaxis()\n",
    "\n",
    "  \n",
    "    plt.show()\n",
    "    clear_output(wait=True)\n",
    "\n",
    "fps.stop()\n",
    "print(\"[INFO] elasped time: {:.2f}\".format(fps.elapsed()))\n",
    "print(\"[INFO] approx. FPS: {:.2f}\".format(fps.fps()))\n",
    "\n",
    "vs.release()"
   ]
  },
  {
   "cell_type": "markdown",
   "metadata": {},
   "source": [
    "# Player Detection Test\n",
    "- YOLO Detection\n",
    "- Background Subtraction Dectection"
   ]
  },
  {
   "cell_type": "markdown",
   "metadata": {},
   "source": [
    "### YOLO Detection Test"
   ]
  },
  {
   "cell_type": "code",
   "execution_count": null,
   "metadata": {},
   "outputs": [],
   "source": [
    "path = \"VIDEOS/PLAYER_EXTRACTION_TEST.mov\"\n",
    "\n",
    "vs = cv2.VideoCapture(path)\n",
    "fps = FPS().start()\n",
    "\n",
    "while True:\n",
    "    # grab the current frame\n",
    "    _,frame = vs.read()\n",
    "\n",
    "    # break out of the application if we have no more frames to read\n",
    "    if frame is None:\n",
    "        break\n",
    "\n",
    "    # resize frame so to make its constant size througout\n",
    "    frame = cv2.resize(frame,(600, 450))\n",
    "    detected_object = frame.copy()\n",
    "    \n",
    "    # detect person using YOLO\n",
    "    target = \"person\"\n",
    "    yolo.yolo_detection(target, frame)\n",
    "\n",
    "    # retrieve player coordinate on the court using YOLO\n",
    "    x_coor, y_coor = yolo.xy_personCoordinate(frame)\n",
    "\n",
    "    # save coordinates\n",
    "    player_xy_coordinates.append((int(x_coor), int(y_coor)))\n",
    "    np.savetxt('/Users/esedicol/Desktop/Desktop/Basketball-Shot-Detectection/COORDINATES/person_xy_coord.txt', player_xy_coordinates, fmt='%d')\n",
    "    \n",
    "    # plot results\n",
    "    fig, ax = plt.subplots(1, 1, figsize=(12, 8))\n",
    "    fig.suptitle('Basketball and Player Detection')\n",
    "    ax.imshow(cv2.cvtColor(frame, cv2.COLOR_BGR2RGB))\n",
    "    ax.axis(\"off\")\n",
    "    plt.show()\n",
    "    clear_output(wait=True)\n",
    "    \n",
    "    if cv2.waitKey(30) & 0xFF == ord('q'):\n",
    "        break\n",
    "    \n",
    "\n",
    "fps.stop()\n",
    "print(\"[INFO] elasped time: {:.2f}\".format(fps.elapsed()))\n",
    "print(\"[INFO] approx. FPS: {:.2f}\".format(fps.fps()))\n",
    "vs.release()"
   ]
  },
  {
   "cell_type": "markdown",
   "metadata": {},
   "source": [
    "### Detection using Background Subtraction Method"
   ]
  },
  {
   "cell_type": "code",
   "execution_count": null,
   "metadata": {},
   "outputs": [],
   "source": [
    "def show(title, ax_one, ax_two):\n",
    "    fig, (ax1, ax2) = plt.subplots(1, 2, figsize=(24, 8))\n",
    "    fig.suptitle(title)\n",
    "    ax1.imshow(cv2.cvtColor(ax_one, cv2.COLOR_BGR2RGB))\n",
    "    ax2.imshow(cv2.cvtColor(ax_two, cv2.COLOR_BGR2RGB))\n",
    "    ax1.axis(\"off\")\n",
    "    plt.show()\n",
    "    \n",
    "    clear_output(wait=True)\n",
    "\n",
    "vs = cv2.VideoCapture('VIDEOS/PLAYER_EXTRACTION_TEST.mov') \n",
    "fps = FPS().start()\n",
    "\n",
    "kernel = cv2.getStructuringElement(cv2.MORPH_ELLIPSE,(3,3))\n",
    "fgbg = cv2.createBackgroundSubtractorMOG2(detectShadows=False)\n",
    "\n",
    "while True:\n",
    "    # grab the current frame\n",
    "    _, frame = vs.read()\n",
    "    frame = cv2.resize(frame,(600, 450))\n",
    "    \n",
    "    blur = cv2.GaussianBlur(frame, (15, 15),0)\n",
    "    dilate = cv2.dilate(blur, None, iterations=2)\n",
    "    fgmask = fgbg.apply(dilate)\n",
    "    dilate = cv2.dilate(fgmask, kernel)\n",
    "\n",
    "    (cnts, hier) = cv2.findContours(dilate, cv2.RETR_TREE, cv2.CHAIN_APPROX_SIMPLE)\n",
    "\n",
    "    for pic, contour in enumerate(cnts):\n",
    "        area = cv2.contourArea(contour)\n",
    "\n",
    "        if area > 5000:\n",
    "            x,y,w,h = cv2.boundingRect(contour)\n",
    "    \n",
    "            x_coordinate = int(x + (w/2))\n",
    "            y_coordinate = int(y + h)\n",
    "\n",
    "            cv2.rectangle(frame, (x,y), (x+w, y+h), (90,10,255), 2)\n",
    "            cv2.putText(frame, \"PERSON\", (x, y - 5), cv2.FONT_HERSHEY_SIMPLEX, 0.5, (255, 255, 0), 1 )\n",
    "            cv2.circle(frame, (x_coordinate, y_coordinate), 3, (0, 0, 255), 8)\n",
    "\n",
    "            title = \"Background Sunbtraction Detection (OpenCV)\"\n",
    "            show(title, frame, dilate)\n",
    "    \n",
    "fps.stop()\n",
    "print(\"[INFO] elasped time: {:.2f}\".format(fps.elapsed()))\n",
    "print(\"[INFO] approx. FPS: {:.2f}\".format(fps.fps()))\n",
    "vs.release()"
   ]
  },
  {
   "cell_type": "code",
   "execution_count": null,
   "metadata": {},
   "outputs": [],
   "source": []
  }
 ],
 "metadata": {
  "kernelspec": {
   "display_name": "Python 3",
   "language": "python",
   "name": "python3"
  },
  "language_info": {
   "codemirror_mode": {
    "name": "ipython",
    "version": 3
   },
   "file_extension": ".py",
   "mimetype": "text/x-python",
   "name": "python",
   "nbconvert_exporter": "python",
   "pygments_lexer": "ipython3",
   "version": "3.7.7"
  }
 },
 "nbformat": 4,
 "nbformat_minor": 4
}
