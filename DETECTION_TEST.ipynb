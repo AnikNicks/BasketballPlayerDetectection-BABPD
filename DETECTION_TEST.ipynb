{
 "cells": [
  {
   "cell_type": "code",
   "execution_count": 10,
   "metadata": {},
   "outputs": [],
   "source": [
    "# Author Emmanuel Sedicol\n",
    "import cv2\n",
    "import imutils\n",
    "import numpy as np\n",
    "import import_ipynb\n",
    "import MAIN_APP as mn\n",
    "import tensorflow as tf\n",
    "import matplotlib.pyplot as plt\n",
    "import POSITION_EXTRACTION as pex\n",
    "\n",
    "from IPython.display import clear_output\n",
    "from imutils.video import VideoStream\n",
    "from imutils.video import FPS\n",
    "from skimage import measure\n",
    "from YOLO import yolo\n",
    "\n",
    "DEBUG = True\n",
    "model = tf.keras.models.load_model(\"MODEL\")"
   ]
  },
  {
   "cell_type": "markdown",
   "metadata": {},
   "source": [
    "# Ball Detection Test"
   ]
  },
  {
   "cell_type": "code",
   "execution_count": 11,
   "metadata": {},
   "outputs": [
    {
     "name": "stdout",
     "output_type": "stream",
     "text": [
      "[INFO] elasped time: 273.31\n",
      "[INFO] approx. FPS: 0.00\n"
     ]
    }
   ],
   "source": [
    "if DEBUG:\n",
    "    shot_xy_coordinates = []\n",
    "    path = \"VIDEOS/BALL_DETECTION_2.mov\"\n",
    "\n",
    "    vs = cv2.VideoCapture(path)\n",
    "    fps = FPS().start()\n",
    "\n",
    "    while True:\n",
    "        # grab the current frame\n",
    "        _,frame = vs.read()\n",
    "\n",
    "        # break out of the application if we have no more frames to read\n",
    "        if frame is None:\n",
    "            break\n",
    "\n",
    "        # resize frame so to make its constant size througout\n",
    "        frame = cv2.resize(frame,(600, 400))\n",
    "        detected_object = frame.copy()\n",
    "        \n",
    "#         # Ball Detection Test 1\n",
    "#         x, y, frame = mn.opencv_ball_detection(frame, True)\n",
    "#         shot_xy_coordinates.append((x,y))\n",
    "        \n",
    "        # Ball Detection Test 2\n",
    "        x, y, frame = mn.opencv_ball_detection(frame, False)\n",
    "        shot_xy_coordinates.append((x,y))\n",
    "        \n",
    "        # plot results\n",
    "        fig, (ax1, ax2) = plt.subplots(1, 2, figsize=(24, 8))\n",
    "        fig.suptitle('Basketball and Player Detection')\n",
    "        ax1.imshow(cv2.cvtColor(frame, cv2.COLOR_BGR2RGB))\n",
    "\n",
    "        # plot at realtime the shot coordinates\n",
    "        for x in range(0, len(shot_xy_coordinates)):\n",
    "            ax2.scatter(shot_xy_coordinates[x][0], shot_xy_coordinates[x][1])\n",
    "\n",
    "        # Plot Limit equals the size of the frame\n",
    "        ax2.set_xlim(0, 600)\n",
    "        ax2.set_ylim(0,400)\n",
    "        ax2.invert_yaxis()\n",
    "\n",
    "        plt.show()\n",
    "        clear_output(wait=True)\n",
    "\n",
    "    fps.stop()\n",
    "    print(\"[INFO] elasped time: {:.2f}\".format(fps.elapsed()))\n",
    "    print(\"[INFO] approx. FPS: {:.2f}\".format(fps.fps()))\n",
    "\n",
    "    vs.release()"
   ]
  },
  {
   "cell_type": "markdown",
   "metadata": {},
   "source": [
    "# Player Detection Test\n",
    "- YOLO Detection\n",
    "- Background Subtraction Dectection"
   ]
  },
  {
   "cell_type": "markdown",
   "metadata": {},
   "source": [
    "### YOLO Detection Test"
   ]
  },
  {
   "cell_type": "code",
   "execution_count": 3,
   "metadata": {},
   "outputs": [
    {
     "name": "stdout",
     "output_type": "stream",
     "text": [
      "[INFO] elasped time: 71.56\n",
      "[INFO] approx. FPS: 0.00\n"
     ]
    }
   ],
   "source": [
    "if DEBUG:    \n",
    "    path = \"VIDEOS/BALL_DETECTION_2.mov\"\n",
    "\n",
    "    vs = cv2.VideoCapture(path)\n",
    "    fps = FPS().start()\n",
    "\n",
    "    while True:\n",
    "        # grab the current frame\n",
    "        _,frame = vs.read()\n",
    "\n",
    "        # break out of the application if we have no more frames to read\n",
    "        if frame is None:\n",
    "            break\n",
    "\n",
    "        # resize frame so to make its constant size througout\n",
    "        frame = cv2.resize(frame,(600, 450))\n",
    "        detected_object = frame.copy()\n",
    "\n",
    "        # detect person using YOLO\n",
    "        target = \"person\"\n",
    "        yolo.yolo_detection(target, frame)\n",
    "\n",
    "        # plot results\n",
    "        fig, ax = plt.subplots(1, 1, figsize=(12, 8))\n",
    "        fig.suptitle('Basketball and Player Detection')\n",
    "        ax.imshow(cv2.cvtColor(frame, cv2.COLOR_BGR2RGB))\n",
    "        ax.axis(\"off\")\n",
    "        plt.show()\n",
    "        clear_output(wait=True)\n",
    "\n",
    "        if cv2.waitKey(30) & 0xFF == ord('q'):\n",
    "            break\n",
    "\n",
    "    fps.stop()\n",
    "    print(\"[INFO] elasped time: {:.2f}\".format(fps.elapsed()))\n",
    "    print(\"[INFO] approx. FPS: {:.2f}\".format(fps.fps()))\n",
    "    vs.release()"
   ]
  },
  {
   "cell_type": "markdown",
   "metadata": {},
   "source": [
    "### Detection using Background Subtraction Method"
   ]
  },
  {
   "cell_type": "code",
   "execution_count": 4,
   "metadata": {},
   "outputs": [
    {
     "name": "stdout",
     "output_type": "stream",
     "text": [
      "[INFO] elasped time: 0.65\n",
      "[INFO] approx. FPS: 0.00\n"
     ]
    }
   ],
   "source": [
    "\n",
    "vs = cv2.VideoCapture('VIDEOS/BALL_DETECTION_1.mov') \n",
    "fps = FPS().start()\n",
    "\n",
    "kernel = cv2.getStructuringElement(cv2.MORPH_ELLIPSE,(3,3))\n",
    "fgbg = cv2.createBackgroundSubtractorMOG2(detectShadows=False)\n",
    "\n",
    "while True:\n",
    "    # grab the current frame\n",
    "    _, frame = vs.read()\n",
    "\n",
    "    if frame is None:\n",
    "        break\n",
    "        \n",
    "    frame = cv2.resize(frame,(600, 400))\n",
    "\n",
    "    blur = cv2.GaussianBlur(frame, (15, 15),0)\n",
    "    dilate = cv2.dilate(blur, None, iterations=2)\n",
    "    fgmask = fgbg.apply(dilate)\n",
    "    dilate = cv2.dilate(fgmask, kernel)\n",
    "\n",
    "    image, (cnts, heirarchy) = cv2.findContours(dilate, cv2.RETR_TREE, cv2.CHAIN_APPROX_SIMPLE)\n",
    "\n",
    "    for pic, contour in enumerate(cnts):\n",
    "        area = cv2.contourArea(contour)\n",
    "\n",
    "        if area > 10:\n",
    "            x,y,w,h = cv2.boundingRect(contour)\n",
    "\n",
    "            x_coordinate = int(x + (w/2))\n",
    "            y_coordinate = int(y + h)\n",
    "\n",
    "            cv2.rectangle(frame, (x,y), (x+w, y+h), (90,10,255), 2)\n",
    "            cv2.putText(frame, \"PERSON\", (x, y - 5), cv2.FONT_HERSHEY_SIMPLEX, 0.5, (255, 255, 0), 1 )\n",
    "            cv2.circle(frame, (x_coordinate, y_coordinate), 3, (0, 0, 255), 8)\n",
    "\n",
    "\n",
    "    fig, (ax1) = plt.subplots(figsize=(24, 8))\n",
    "    ax1.imshow(cv2.cvtColor(frame, cv2.COLOR_BGR2RGB))\n",
    "    ax1.axis(\"off\")\n",
    "    plt.show()\n",
    "    clear_output(wait=True)\n",
    "\n",
    "    fps.stop()\n",
    "    print(\"[INFO] elasped time: {:.2f}\".format(fps.elapsed()))\n",
    "    print(\"[INFO] approx. FPS: {:.2f}\".format(fps.fps()))\n",
    "    vs.release()"
   ]
  },
  {
   "cell_type": "code",
   "execution_count": null,
   "metadata": {},
   "outputs": [],
   "source": []
  }
 ],
 "metadata": {
  "kernelspec": {
   "display_name": "Python 3",
   "language": "python",
   "name": "python3"
  },
  "language_info": {
   "codemirror_mode": {
    "name": "ipython",
    "version": 3
   },
   "file_extension": ".py",
   "mimetype": "text/x-python",
   "name": "python",
   "nbconvert_exporter": "python",
   "pygments_lexer": "ipython3",
   "version": "3.7.7"
  }
 },
 "nbformat": 4,
 "nbformat_minor": 4
}
