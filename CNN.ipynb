{
 "cells": [
  {
   "cell_type": "code",
   "execution_count": null,
   "metadata": {},
   "outputs": [],
   "source": [
    "import numpy as np\n",
    "import matplotlib.pyplot as plt\n",
    "import os\n",
    "import cv2\n",
    "import random"
   ]
  },
  {
   "cell_type": "markdown",
   "metadata": {},
   "source": [
    "# Categorise and label our dateset"
   ]
  },
  {
   "cell_type": "code",
   "execution_count": null,
   "metadata": {},
   "outputs": [],
   "source": [
    "DIR = \"/Users/esedicol/Desktop/Desktop/Basketball-Shot-Detectection/images/\"\n",
    "CATEGORIES = [\"basketball\", \"hoop\"]\n",
    "data = []\n",
    "\n",
    "for category in CATEGORIES: \n",
    "    class_label = CATEGORIES.index(category)\n",
    "    path = f'{DIR}{category}'\n",
    "    for img in os.listdir(path): \n",
    "        img_path = f'{path}/{img}'\n",
    "        try:\n",
    "            img_array = cv2.imread(img_path ,cv2.IMREAD_GRAYSCALE)\n",
    "            # resize all image to be consistent\n",
    "            image = cv2.resize(img_array, (80, 80))\n",
    "            # append processed image and label onto our data list\n",
    "            data.append([image, class_label])\n",
    "        except Exception as e: \n",
    "            pass\n",
    "\n",
    "# we only have two object adn we dont want them to be stacked up\n",
    "random.shuffle(data)\n",
    "print(len(data))"
   ]
  },
  {
   "cell_type": "code",
   "execution_count": null,
   "metadata": {},
   "outputs": [],
   "source": [
    "x = []\n",
    "y = []\n",
    "\n",
    "for features,label in data:\n",
    "    x.append(features)\n",
    "    y.append(label)\n",
    "#     print(CATEGORIES[label])\n",
    "#     plt.imshow(features, cmap='gray')\n",
    "#     plt.show()\n",
    "\n",
    "x = np.array(x).reshape(-1, 80, 80, 1)\n",
    "Y = np.array(y)\n",
    "\n",
    "X = x/255.0"
   ]
  },
  {
   "cell_type": "code",
   "execution_count": null,
   "metadata": {},
   "outputs": [],
   "source": [
    "import tensorflow as tf\n",
    "from tensorflow.keras.datasets import cifar10\n",
    "from tensorflow.keras.preprocessing.image import ImageDataGenerator\n",
    "from tensorflow.keras.models import Sequential\n",
    "from tensorflow.keras.layers import Dense, Dropout, Activation, Flatten\n",
    "from tensorflow.keras.layers import Conv2D, MaxPooling2D"
   ]
  },
  {
   "cell_type": "code",
   "execution_count": null,
   "metadata": {},
   "outputs": [],
   "source": [
    "model = Sequential()\n",
    "\n",
    "model.add(Conv2D(64, (3, 3), input_shape=X.shape[1:]))\n",
    "model.add(Activation('relu'))\n",
    "model.add(MaxPooling2D(pool_size=(2, 2)))\n",
    "model.add(Conv2D(64, (3, 3)))\n",
    "model.add(Activation('relu'))\n",
    "model.add(MaxPooling2D(pool_size=(2, 2)))\n",
    "model.add(Flatten())  # this converts our 3D feature maps to 1D feature vectors\n",
    "model.add(Dense(64))\n",
    "model.add(Dense(1))\n",
    "model.add(Activation('sigmoid'))\n",
    "\n",
    "model.compile(loss='binary_crossentropy',optimizer='adam',metrics=['accuracy'])\n",
    "\n",
    "model.fit(X, Y, batch_size=32, epochs=8, validation_split=0.2)\n",
    "\n",
    "    # export our model so we can use it for other projects\n",
    "    model.save('/Users/esedicol/Documents/BasketballShotDetectection/MODEL')\n",
    "\n",
    "    # load our model\n",
    "    model = tf.keras.models.load_model('/Users/esedicol/Documents/BasketballShotDetectection/MODEL')\n",
    "    \n",
    "    "
   ]
  },
  {
   "cell_type": "code",
   "execution_count": null,
   "metadata": {},
   "outputs": [],
   "source": [
    "def prepare(filepath):\n",
    "    img_array = cv2.imread(filepath, cv2.IMREAD_GRAYSCALE)  # read in the image, convert to grayscale\n",
    "    pred_img = cv2.resize(img_array,  (80,80))\n",
    "    return pred_img.reshape(-1, 80, 80, 1)  # resize image to match model's expected sizing"
   ]
  },
  {
   "cell_type": "code",
   "execution_count": null,
   "metadata": {},
   "outputs": [],
   "source": [
    "model = tf.keras.models.load_model('/Users/esedicol/Desktop/Desktop/Basketball-Shot-Detectection/MODEL')"
   ]
  },
  {
   "cell_type": "code",
   "execution_count": null,
   "metadata": {},
   "outputs": [],
   "source": [
    "prediction = model.predict([prepare('images/basketball/1-2-basketball.jpg')])\n",
    "print(CATEGORIES[int(prediction[0][0])])"
   ]
  }
 ],
 "metadata": {
  "kernelspec": {
   "display_name": "Python 3",
   "language": "python",
   "name": "python3"
  },
  "language_info": {
   "codemirror_mode": {
    "name": "ipython",
    "version": 3
   },
   "file_extension": ".py",
   "mimetype": "text/x-python",
   "name": "python",
   "nbconvert_exporter": "python",
   "pygments_lexer": "ipython3",
   "version": "3.7.7"
  }
 },
 "nbformat": 4,
 "nbformat_minor": 4
}
