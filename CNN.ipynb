{
 "cells": [
  {
   "cell_type": "code",
   "execution_count": 3,
   "metadata": {},
   "outputs": [],
   "source": [
    "import numpy as np\n",
    "import matplotlib.pyplot as plt\n",
    "import os\n",
    "import cv2\n",
    "import random"
   ]
  },
  {
   "cell_type": "markdown",
   "metadata": {},
   "source": [
    "# Categorise and label our dateset"
   ]
  },
  {
   "cell_type": "code",
   "execution_count": 4,
   "metadata": {},
   "outputs": [
    {
     "name": "stdout",
     "output_type": "stream",
     "text": [
      "232\n"
     ]
    }
   ],
   "source": [
    "DIR = \"/Users/esedicol/Desktop/Desktop/Basketball-Shot-Detectection/images/\"\n",
    "CATEGORIES = [\"basketball\", \"hoop\"]\n",
    "data = []\n",
    "\n",
    "for category in CATEGORIES: \n",
    "    class_label = CATEGORIES.index(category)\n",
    "    path = f'{DIR}{category}'\n",
    "    for img in os.listdir(path): \n",
    "        img_path = f'{path}/{img}'\n",
    "        try:\n",
    "            img_array = cv2.imread(img_path ,cv2.IMREAD_GRAYSCALE)\n",
    "            # resize all image to be consistent\n",
    "            image = cv2.resize(img_array, (80, 80))\n",
    "            # append processed image and label onto our data list\n",
    "            data.append([image, class_label])\n",
    "        except Exception as e: \n",
    "            pass\n",
    "\n",
    "# we only have two object adn we dont want them to be stacked up\n",
    "random.shuffle(data)\n",
    "print(len(data))"
   ]
  },
  {
   "cell_type": "code",
   "execution_count": 6,
   "metadata": {},
   "outputs": [],
   "source": [
    "x = []\n",
    "y = []\n",
    "\n",
    "for features,label in data:\n",
    "    x.append(features)\n",
    "    y.append(label)\n",
    "#     print(CATEGORIES[label])\n",
    "#     plt.imshow(features, cmap='gray')\n",
    "#     plt.show()\n",
    "\n",
    "x = np.array(x).reshape(-1, 80, 80, 1)\n",
    "Y = np.array(y)\n",
    "\n",
    "X = x/255.0"
   ]
  },
  {
   "cell_type": "code",
   "execution_count": 7,
   "metadata": {},
   "outputs": [],
   "source": [
    "import tensorflow as tf\n",
    "from tensorflow.keras.datasets import cifar10\n",
    "from tensorflow.keras.preprocessing.image import ImageDataGenerator\n",
    "from tensorflow.keras.models import Sequential\n",
    "from tensorflow.keras.layers import Dense, Dropout, Activation, Flatten\n",
    "from tensorflow.keras.layers import Conv2D, MaxPooling2D"
   ]
  },
  {
   "cell_type": "code",
   "execution_count": 8,
   "metadata": {},
   "outputs": [
    {
     "name": "stdout",
     "output_type": "stream",
     "text": [
      "Train on 185 samples, validate on 47 samples\n",
      "Epoch 1/8\n",
      "185/185 [==============================] - 2s 11ms/sample - loss: 0.7911 - accuracy: 0.5676 - val_loss: 0.5754 - val_accuracy: 0.6809\n",
      "Epoch 2/8\n",
      "185/185 [==============================] - 2s 8ms/sample - loss: 0.4291 - accuracy: 0.8162 - val_loss: 0.4106 - val_accuracy: 0.8298\n",
      "Epoch 3/8\n",
      "185/185 [==============================] - 2s 9ms/sample - loss: 0.3105 - accuracy: 0.9027 - val_loss: 0.2326 - val_accuracy: 0.9149\n",
      "Epoch 4/8\n",
      "185/185 [==============================] - 1s 8ms/sample - loss: 0.2084 - accuracy: 0.9189 - val_loss: 0.1992 - val_accuracy: 0.9362\n",
      "Epoch 5/8\n",
      "185/185 [==============================] - 1s 7ms/sample - loss: 0.1774 - accuracy: 0.9297 - val_loss: 0.1901 - val_accuracy: 0.9362\n",
      "Epoch 6/8\n",
      "185/185 [==============================] - 1s 7ms/sample - loss: 0.1548 - accuracy: 0.9405 - val_loss: 0.1931 - val_accuracy: 0.9362\n",
      "Epoch 7/8\n",
      "185/185 [==============================] - 1s 8ms/sample - loss: 0.1065 - accuracy: 0.9676 - val_loss: 0.2792 - val_accuracy: 0.8936\n",
      "Epoch 8/8\n",
      "185/185 [==============================] - 1s 8ms/sample - loss: 0.0833 - accuracy: 0.9730 - val_loss: 0.2068 - val_accuracy: 0.8936\n",
      "WARNING:tensorflow:From /usr/local/lib/python3.7/site-packages/tensorflow_core/python/ops/resource_variable_ops.py:1786: calling BaseResourceVariable.__init__ (from tensorflow.python.ops.resource_variable_ops) with constraint is deprecated and will be removed in a future version.\n",
      "Instructions for updating:\n",
      "If using Keras pass *_constraint arguments to layers.\n",
      "INFO:tensorflow:Assets written to: /Users/esedicol/Desktop/Desktop/Basketball-Shot-Detectection/MODEL/assets\n"
     ]
    }
   ],
   "source": [
    "model = Sequential()\n",
    "\n",
    "model.add(Conv2D(64, (3, 3), input_shape=X.shape[1:]))\n",
    "model.add(Activation('relu'))\n",
    "model.add(MaxPooling2D(pool_size=(2, 2)))\n",
    "model.add(Conv2D(64, (3, 3)))\n",
    "model.add(Activation('relu'))\n",
    "model.add(MaxPooling2D(pool_size=(2, 2)))\n",
    "model.add(Flatten())  # this converts our 3D feature maps to 1D feature vectors\n",
    "model.add(Dense(64))\n",
    "model.add(Dense(1))\n",
    "model.add(Activation('sigmoid'))\n",
    "\n",
    "model.compile(loss='binary_crossentropy',optimizer='adam',metrics=['accuracy'])\n",
    "\n",
    "model.fit(X, Y, batch_size=32, epochs=8, validation_split=0.2)\n",
    "\n",
    "# export our model so we can use it for other projects\n",
    "model.save('/Users/esedicol/Desktop/Desktop/Basketball-Shot-Detectection/MODEL')"
   ]
  },
  {
   "cell_type": "code",
   "execution_count": 9,
   "metadata": {},
   "outputs": [],
   "source": [
    "def prepare(filepath):\n",
    "    img_array = cv2.imread(filepath, cv2.IMREAD_GRAYSCALE)  # read in the image, convert to grayscale\n",
    "    pred_img = cv2.resize(img_array,  (80,80))\n",
    "    return pred_img.reshape(-1, 80, 80, 1)  # resize image to match model's expected sizing"
   ]
  },
  {
   "cell_type": "code",
   "execution_count": 10,
   "metadata": {},
   "outputs": [],
   "source": [
    "m = tf.keras.models.load_model('/Users/esedicol/Desktop/Desktop/Basketball-Shot-Detectection/MODEL')"
   ]
  },
  {
   "cell_type": "code",
   "execution_count": 11,
   "metadata": {},
   "outputs": [
    {
     "name": "stdout",
     "output_type": "stream",
     "text": [
      "basketball\n"
     ]
    }
   ],
   "source": [
    "prediction = model.predict([prepare('images/basketball/1-2-basketball.jpg')])\n",
    "print(CATEGORIES[int(prediction[0][0])])"
   ]
  }
 ],
 "metadata": {
  "kernelspec": {
   "display_name": "Python 3",
   "language": "python",
   "name": "python3"
  },
  "language_info": {
   "codemirror_mode": {
    "name": "ipython",
    "version": 3
   },
   "file_extension": ".py",
   "mimetype": "text/x-python",
   "name": "python",
   "nbconvert_exporter": "python",
   "pygments_lexer": "ipython3",
   "version": "3.7.7"
  }
 },
 "nbformat": 4,
 "nbformat_minor": 4
}
