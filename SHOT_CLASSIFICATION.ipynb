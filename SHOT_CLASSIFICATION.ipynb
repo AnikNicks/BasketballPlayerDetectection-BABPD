{
 "cells": [
  {
   "cell_type": "code",
   "execution_count": 4,
   "metadata": {},
   "outputs": [],
   "source": [
    "# Author Emmanuel Sedicol\n",
    "from skimage import measure\n",
    "import matplotlib.pyplot as plt\n",
    "import numpy as np\n",
    "import cv2\n",
    "\n",
    "from IPython.display import clear_output"
   ]
  },
  {
   "cell_type": "markdown",
   "metadata": {},
   "source": [
    "## Image to Compare:\n",
    "> - this functon loads the image that will be used as a comparasion to input video\n",
    "> - image is resized and altered so that is has the same dimensions as our currents frames"
   ]
  },
  {
   "cell_type": "code",
   "execution_count": 5,
   "metadata": {},
   "outputs": [],
   "source": [
    "def image_to_compare():\n",
    "    image_to_compare = cv2.imread(\"/Users/esedicol/Desktop/BasketballShotDetectection/images/compare_image.png\")\n",
    "    image_to_compare = cv2.resize(image_to_compare, (600,400))\n",
    "    image_to_compare = cv2.cvtColor(image_to_compare, cv2.COLOR_BGR2GRAY)\n",
    "    image_to_compare = image_to_compare[int(80):int(130),int(280):int(325)] \n",
    "\n",
    "    return image_to_compare"
   ]
  },
  {
   "cell_type": "markdown",
   "metadata": {},
   "source": [
    "## Compare Image:\n",
    "> - SSIM is a Structural similarity (SSIM) methid which uses a calculated index for measuring image quality\n",
    "> - scikit-learn offers a method for it.. yay"
   ]
  },
  {
   "cell_type": "code",
   "execution_count": 6,
   "metadata": {},
   "outputs": [],
   "source": [
    "def compare_images(imageA, imageB):\n",
    "    ssim = measure.compare_ssim(imageA, imageB)\n",
    "    return ssim"
   ]
  },
  {
   "cell_type": "code",
   "execution_count": 7,
   "metadata": {},
   "outputs": [],
   "source": [
    "path = \"VIDEOS/PLAYER_EXTRACTION_TEST2.mov\"\n",
    "image_to_compare = image_to_compare()\n",
    "vs = cv2.VideoCapture(path)\n",
    "\n",
    "while True:\n",
    "    # grab the current frame\n",
    "    _,frame = vs.read()\n",
    "    \n",
    "    # break out of the application if we have no more frames to read\n",
    "    if frame is None:\n",
    "        break\n",
    "\n",
    "    # resize frame so to make its constant size througout\n",
    "    frame = cv2.resize(frame,(600, 400))\n",
    "    \n",
    "    f_copy = frame[int(80):int(130),int(280):int(325)] \n",
    "    f_copy = cv2.cvtColor(f_copy, cv2.COLOR_BGR2GRAY)\n",
    "        \n",
    "    ssim = compare_images(f_copy, image_to_compare)\n",
    "    \n",
    "    if ssim > 0.92:\n",
    "        print(\"score\")\n",
    "    \n",
    "    fig, (ax1, ax2) = plt.subplots(1, 2, figsize=(24, 8))\n",
    "    fig.suptitle('Basketball and Player Detection')\n",
    "\n",
    "    # Column one\n",
    "    ax1.set_title(\"Original Frame\")\n",
    "    ax1.imshow(f_copy) \n",
    "\n",
    "    # Column 2\n",
    "    ax2.set_title(\"Image to Compare\")\n",
    "    ax2.imshow(image_to_compare)\n",
    "\n",
    "    plt.show()\n",
    "    clear_output(wait=True)\n",
    "vs.release()"
   ]
  },
  {
   "cell_type": "code",
   "execution_count": null,
   "metadata": {},
   "outputs": [],
   "source": []
  }
 ],
 "metadata": {
  "kernelspec": {
   "display_name": "Python 3",
   "language": "python",
   "name": "python3"
  },
  "language_info": {
   "codemirror_mode": {
    "name": "ipython",
    "version": 3
   },
   "file_extension": ".py",
   "mimetype": "text/x-python",
   "name": "python",
   "nbconvert_exporter": "python",
   "pygments_lexer": "ipython3",
   "version": "3.7.7"
  }
 },
 "nbformat": 4,
 "nbformat_minor": 4
}
