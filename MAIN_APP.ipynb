{
 "cells": [
  {
   "cell_type": "code",
   "execution_count": 1,
   "metadata": {},
   "outputs": [
    {
     "name": "stdout",
     "output_type": "stream",
     "text": [
      "importing Jupyter notebook from POSITION_EXTRACTION.ipynb\n"
     ]
    }
   ],
   "source": [
    "# Author Emmanuel Sedicol\n",
    "import cv2\n",
    "import import_ipynb\n",
    "import imutils\n",
    "import matplotlib.pyplot as plt\n",
    "import tensorflow as tf\n",
    "import numpy as np\n",
    "import POSITION_EXTRACTION as pex\n",
    "\n",
    "from IPython.display import clear_output\n",
    "from imutils.video import VideoStream\n",
    "from imutils.video import FPS\n",
    "from skimage import measure\n",
    "from YOLO import yolo\n",
    "\n",
    "DEBUG = False"
   ]
  },
  {
   "cell_type": "markdown",
   "metadata": {},
   "source": [
    "# Inner Functions"
   ]
  },
  {
   "cell_type": "code",
   "execution_count": 2,
   "metadata": {},
   "outputs": [],
   "source": [
    "# transform input frame to the corect structure before being classified my the model\n",
    "def predict_object(frame):\n",
    "    model = tf.keras.models.load_model(\"MODEL\")\n",
    "    CATEGORIES = ['basketball', 'hoop']\n",
    "    \n",
    "    img = cv2.resize(cv2.cvtColor(frame, cv2.COLOR_BGR2GRAY), (80,80))\n",
    "    img = img.reshape(-1, 80, 80, 1)\n",
    "    \n",
    "    # predict image\n",
    "    prediction = model.predict([img])\n",
    "    prediction_label = CATEGORIES[int(prediction[0][0])]\n",
    "    return(prediction_label)\n",
    "\n",
    "# load image to compare to frame from shot classification\n",
    "def image_to_compare():\n",
    "    image_to_compare = cv2.imread(\"/Users/esedicol/Desktop/BasketballShotDetectection/images/compare_image.png\")\n",
    "    image_to_compare = cv2.resize(image_to_compare, (600,400))\n",
    "    image_to_compare = cv2.cvtColor(image_to_compare, cv2.COLOR_BGR2GRAY)\n",
    "    image_to_compare = image_to_compare[int(80):int(130),int(280):int(325)] \n",
    "\n",
    "    return image_to_compare\n",
    "\n",
    "# Using the Structural Similarity Index to see if image of a ball going in the hoop is found in the video\n",
    "def compare_images(imageA, imageB):\n",
    "    ssim = measure.compare_ssim(imageA, imageB)\n",
    "    return ssim"
   ]
  },
  {
   "cell_type": "markdown",
   "metadata": {},
   "source": [
    "# Ball detection using Opencv\n",
    "- uses hsv color range to create a mask\n",
    "- classify detected objects using the function predict_object()"
   ]
  },
  {
   "cell_type": "code",
   "execution_count": 3,
   "metadata": {},
   "outputs": [],
   "source": [
    "def opencv_ball_detection(frame, bol):\n",
    "    detected_object = frame.copy()\n",
    "    \n",
    "    # frame filtering and image processing\n",
    "    blur = cv2.GaussianBlur(frame, (15, 15),0)\n",
    "    erode = cv2.erode(blur, None, iterations=2)\n",
    "    dilate = cv2.dilate(erode, None, iterations=2)\n",
    "    hsv = cv2.cvtColor(dilate, cv2.COLOR_BGR2HSV)\n",
    "    \n",
    "    # create mask using lower and upper orange range\n",
    "    mask = cv2.inRange(hsv, (1, 80, 110), (8,200,175))\n",
    "\n",
    "    # find contours in the mask and initialize the current\n",
    "    cnts = cv2.findContours(mask.copy(), cv2.RETR_TREE, cv2.CHAIN_APPROX_SIMPLE)\n",
    "    cnts = imutils.grab_contours(cnts)\n",
    "    \n",
    "    if  len(cnts) > 0:   \n",
    "        \n",
    "        # get maximum contour based on its area value\n",
    "        c = max(cnts, key=cv2.contourArea)\n",
    "        ((x, y), radius) = cv2.minEnclosingCircle(c)\n",
    "        \n",
    "        # check if the radius meets size criteria\n",
    "        if radius > 5 and radius < 20 :\n",
    "            \n",
    "            # Retrive the frame of detected ball\n",
    "            detected_object = detected_object[int(y - 20):int(y + 20),int(x - 20):int(x + 20)] \n",
    "\n",
    "            if bol == True:\n",
    "                # if detected object is classifies as a basketball\n",
    "                if predict_object(detected_object) == \"basketball\" :\n",
    "                    # Draw the circle and centroid on the frame,\n",
    "                    cv2.circle(frame, (int(x), int(y)), int(radius),(0, 255, 255), 2)\n",
    "                    cv2.circle(frame, (int(x), int(y)), 1, (0, 0, 255), 2)\n",
    "\n",
    "                    # Draw rectangle around the minimum enclosed circle and dipslay label of detected object\n",
    "                    cv2.rectangle(frame, (int(x - 20), int(y - 20)), (int(x + 20), int(y + 20)), (255,0,0), 2)\n",
    "                    cv2.putText(frame, \"BASKETBALL\", (int(x - 30), int(y - 25)), cv2.FONT_HERSHEY_SIMPLEX, 0.4, (255, 255, 0), 1 )\n",
    "            else:\n",
    "                # if detected object is classifies as a basketball\n",
    "                if predict_object(detected_object) != \"basketball\" :\n",
    "                    # Draw the circle and centroid on the frame,\n",
    "                    cv2.circle(frame, (int(x), int(y)), int(radius),(0, 255, 255), 2)\n",
    "                    cv2.circle(frame, (int(x), int(y)), 1, (0, 0, 255), 2)\n",
    "\n",
    "                    # Draw rectangle around the minimum enclosed circle and dipslay label of detected object\n",
    "                    cv2.rectangle(frame, (int(x - 20), int(y - 20)), (int(x + 20), int(y + 20)), (255,0,0), 2)\n",
    "                    cv2.putText(frame, \"BASKETBALL\", (int(x - 30), int(y - 25)), cv2.FONT_HERSHEY_SIMPLEX, 0.4, (255, 255, 0), 1 )\n",
    "            \n",
    "    return x, y, frame"
   ]
  },
  {
   "cell_type": "markdown",
   "metadata": {},
   "source": [
    "### Variables for main_app parameters"
   ]
  },
  {
   "cell_type": "code",
   "execution_count": 4,
   "metadata": {},
   "outputs": [],
   "source": [
    "path = \"VIDEOS/PLAYER_EXTRACTION_TEST2.mov\"\n",
    "\n",
    "court_image = cv2.imread('/Users/esedicol/Desktop/BasketballShotDetectection/images/court/court_invert.png')\n",
    "court_image  = cv2.resize(court_image, (600,400))\n",
    "\n",
    "pts_3D = np.array([(0,235), (70, 236), (230, 235), (370, 232), (530, 230), (600, 227), (300, 360), (200, 315), (405, 310)])\n",
    "pts_2D = np.array([(0, 0), (63, 0),(226, 0), (370, 0), (535, 0), (600, 0), (300, 216), (226, 160), (370, 160) ])"
   ]
  },
  {
   "cell_type": "markdown",
   "metadata": {},
   "source": [
    "# Main Function"
   ]
  },
  {
   "cell_type": "code",
   "execution_count": 7,
   "metadata": {},
   "outputs": [],
   "source": [
    "# Main App Function\n",
    "def main_app(path, court_image, pts_3D, pts_2D):\n",
    "    vs = cv2.VideoCapture(path)\n",
    "    fps = FPS().start()\n",
    "    \n",
    "    while True:\n",
    "        # grab the current frame\n",
    "        _,frame = vs.read()\n",
    "\n",
    "        # break out of the application if we have no more frames to read\n",
    "        if frame is None:\n",
    "            break\n",
    "            \n",
    "        # resize frame so to make its constant size througout\n",
    "        frame = cv2.resize(frame,(600, 400))\n",
    "        \n",
    "        compare_frame = frame[int(80):int(130),int(280):int(325)] \n",
    "        compare_frame = cv2.cvtColor(compare_frame, cv2.COLOR_BGR2GRAY)\n",
    "            \n",
    "        # detect ball using YOLO\n",
    "        target_b = \"ball\"\n",
    "        frame, detected = yolo.yolo_detection(target_b, frame)\n",
    "        \n",
    "        # detect person using YOLO\n",
    "        target_p = \"person\"\n",
    "        frame, detected = yolo.yolo_detection(target_p, frame)\n",
    "\n",
    "        cim1 = image_to_compare()\n",
    "        ssim = compare_images(compare_frame, cim1)\n",
    "\n",
    "        # if ssi scores is over 0.9 (meaning good match)\n",
    "        if ssim > 0.9:\n",
    "            print(\"score\")\n",
    "        \n",
    "        # extract player position and map into 2D court\n",
    "        _, _, court_2D = pex.estimate_position(frame, court_image, pts_3D, pts_2D)\n",
    "\n",
    "        # if YOLO doesnt detect ball use opencv method\n",
    "        if detected == False:\n",
    "            _, _, frame = opencv_ball_detection(frame, True)\n",
    "\n",
    "        # plot results\n",
    "        fig, (ax1, ax2) = plt.subplots(1, 2, figsize=(24, 8))\n",
    "        fig.suptitle('Basketball and Player Detection')\n",
    "        \n",
    "        # Column one\n",
    "        ax1.set_title(\"Original Frame\")\n",
    "        ax1.imshow(cv2.cvtColor(frame, cv2.COLOR_BGR2RGB)) \n",
    "        ax1.axis(\"off\")\n",
    "        \n",
    "        # Column 2\n",
    "        ax2.set_title(\"Mask\")\n",
    "        ax2.imshow(court_2D)\n",
    "        \n",
    "        ax2.set_xlim(0, 600)\n",
    "        ax2.set_ylim(0,400)\n",
    "        ax2.invert_yaxis()\n",
    "        \n",
    "        plt.show()\n",
    "        clear_output(wait=True)\n",
    "    \n",
    "    fps.stop()\n",
    "    vs.release()\n",
    "    print(\"[INFO] elasped time: {:.2f}\".format(fps.elapsed()))\n",
    "    print(\"[INFO] approx. FPS: {:.2f}\".format(fps.fps()))"
   ]
  },
  {
   "cell_type": "code",
   "execution_count": 8,
   "metadata": {},
   "outputs": [
    {
     "name": "stdout",
     "output_type": "stream",
     "text": [
      "[INFO] elasped time: 77.19\n",
      "[INFO] approx. FPS: 0.00\n"
     ]
    }
   ],
   "source": [
    "if DEBUG:\n",
    "    main_app(path, court_image, pts_3D, pts_2D)"
   ]
  },
  {
   "cell_type": "code",
   "execution_count": null,
   "metadata": {},
   "outputs": [],
   "source": []
  }
 ],
 "metadata": {
  "kernelspec": {
   "display_name": "Python 3",
   "language": "python",
   "name": "python3"
  },
  "language_info": {
   "codemirror_mode": {
    "name": "ipython",
    "version": 3
   },
   "file_extension": ".py",
   "mimetype": "text/x-python",
   "name": "python",
   "nbconvert_exporter": "python",
   "pygments_lexer": "ipython3",
   "version": "3.7.7"
  }
 },
 "nbformat": 4,
 "nbformat_minor": 4
}
