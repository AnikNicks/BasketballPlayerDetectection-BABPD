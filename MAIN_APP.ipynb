{
 "cells": [
  {
   "cell_type": "code",
   "execution_count": 1,
   "metadata": {},
   "outputs": [
    {
     "name": "stdout",
     "output_type": "stream",
     "text": [
      "importing Jupyter notebook from POSITION_EXTRACTION.ipynb\n",
      "importing Jupyter notebook from SHOT_CLASSIFICATION.ipynb\n"
     ]
    }
   ],
   "source": [
    "# Author Emmanuel Sedicol\n",
    "import cv2\n",
    "import import_ipynb\n",
    "import imutils\n",
    "import matplotlib.pyplot as plt\n",
    "import tensorflow as tf\n",
    "import numpy as np\n",
    "import time\n",
    "from imutils.video import FileVideoStream\n",
    "\n",
    "# notebook imports\n",
    "import POSITION_EXTRACTION as pex\n",
    "import SHOT_CLASSIFICATION as scn\n",
    "\n",
    "from IPython.display import clear_output\n",
    "from imutils.video import VideoStream\n",
    "from imutils.video import FPS\n",
    "from skimage import measure\n",
    "from YOLO import yolo\n",
    "\n",
    "DEBUG = True"
   ]
  },
  {
   "cell_type": "markdown",
   "metadata": {},
   "source": [
    "## Predict Object:\n",
    "> - the following function takes in a frame/ image as its input\n",
    "> - it peforms basic image processing to prepare the image before being classified by the Neural Network"
   ]
  },
  {
   "cell_type": "code",
   "execution_count": 2,
   "metadata": {},
   "outputs": [],
   "source": [
    "# transform input frame to the corect structure before being classified my the model\n",
    "def predict_object(frame):\n",
    "    model = tf.keras.models.load_model(\"MODEL\")\n",
    "    CATEGORIES = ['basketball', 'hoop']\n",
    "    \n",
    "    img = cv2.resize(cv2.cvtColor(frame, cv2.COLOR_BGR2GRAY), (80,80))\n",
    "    img = img.reshape(-1, 80, 80, 1)\n",
    "    \n",
    "    # predict image\n",
    "    prediction = model.predict([img])\n",
    "    prediction_label = CATEGORIES[int(prediction[0][0])]\n",
    "    return(prediction_label)"
   ]
  },
  {
   "cell_type": "markdown",
   "metadata": {},
   "source": [
    "# Ball detection using Opencv\n",
    "- uses hsv color range to create a mask\n",
    "- classify detected objects by using the function predict_object() to prepare input frame to the CNN"
   ]
  },
  {
   "cell_type": "code",
   "execution_count": 3,
   "metadata": {},
   "outputs": [],
   "source": [
    "def opencv_ball_detection(frame, bol):\n",
    "    detected_object = frame.copy()\n",
    "    \n",
    "    # frame filtering and image processing\n",
    "    blur = cv2.GaussianBlur(frame, (15, 15),0)\n",
    "    erode = cv2.erode(blur, None, iterations=2)\n",
    "    dilate = cv2.dilate(erode, None, iterations=2)\n",
    "    hsv = cv2.cvtColor(dilate, cv2.COLOR_BGR2HSV)\n",
    "    \n",
    "    # create mask using lower and upper orange range\n",
    "    mask = cv2.inRange(hsv, (1, 80, 110), (8,200,175))\n",
    "\n",
    "    # find contours in the mask and initialize the current\n",
    "    cnts = cv2.findContours(mask.copy(), cv2.RETR_TREE, cv2.CHAIN_APPROX_SIMPLE)\n",
    "    cnts = imutils.grab_contours(cnts)\n",
    "    \n",
    "    if  len(cnts) > 0:   \n",
    "        \n",
    "        # get maximum contour based on its area value\n",
    "        c = max(cnts, key=cv2.contourArea)\n",
    "        ((x, y), radius) = cv2.minEnclosingCircle(c)\n",
    "        \n",
    "        # check if the radius meets size criteria\n",
    "        if radius > 5 and radius < 20 :\n",
    "            \n",
    "            # Retrive the frame of detected ball\n",
    "            detected_object = detected_object[int(y - 20):int(y + 20),int(x - 20):int(x + 20)] \n",
    "\n",
    "            if bol == True:\n",
    "                # if detected object is classifies as a basketball\n",
    "                if predict_object(detected_object) == \"basketball\" :\n",
    "                    # Draw the circle and centroid on the frame,\n",
    "                    cv2.circle(frame, (int(x), int(y)), int(radius),(0, 255, 255), 2)\n",
    "                    cv2.circle(frame, (int(x), int(y)), 1, (0, 0, 255), 2)\n",
    "\n",
    "                    # Draw rectangle around the minimum enclosed circle and dipslay label of detected object\n",
    "                    \n",
    "                    cv2.rectangle(frame, (int(x - 20), int(y - 20)), (int(x + 20), int(y + 20)), (255,0,0), 2)\n",
    "                    cv2.putText(frame, \"BASKETBALL\", (int(x - 30), int(y - 25)), cv2.FONT_HERSHEY_SIMPLEX, 0.4, (255, 255, 0), 1 )\n",
    "            else:\n",
    "                # if detected object is classifies as a basketball\n",
    "                if predict_object(detected_object) != \"basketball\" :\n",
    "                    # Draw the circle and centroid on the frame,\n",
    "                    cv2.circle(frame, (int(x), int(y)), int(radius),(0, 255, 255), 2)\n",
    "                    cv2.circle(frame, (int(x), int(y)), 1, (0, 0, 255), 2)\n",
    "\n",
    "                    # Draw rectangle around the minimum enclosed circle and dipslay label of detected object\n",
    "                    cv2.rectangle(frame, (int(x - 20), int(y - 20)), (int(x + 20), int(y + 20)), (255,0,0), 2)\n",
    "                    cv2.putText(frame, \"BASKETBALL\", (int(x - 30), int(y - 25)), cv2.FONT_HERSHEY_SIMPLEX, 0.4, (255, 255, 0), 1 )\n",
    "            \n",
    "    return x, y, frame"
   ]
  },
  {
   "cell_type": "markdown",
   "metadata": {},
   "source": [
    "### Variables for main_app parameters"
   ]
  },
  {
   "cell_type": "code",
   "execution_count": 4,
   "metadata": {},
   "outputs": [],
   "source": [
    "path = 'VIDEOS/MAIN_TEST.mov'\n",
    "\n",
    "court_image = cv2.imread('images/court/court_invert.png')\n",
    "court_image  = cv2.resize(court_image, (600,400))\n",
    "\n",
    "pts_3D = np.array([(0,235), (70, 236), (230, 235), (370, 232), (530, 230), (600, 227), (300, 360), (200, 315), (405, 310)])\n",
    "pts_2D = np.array([(0, 0), (63, 0),(226, 0), (370, 0), (535, 0), (600, 0), (300, 216), (226, 160), (370, 160) ])"
   ]
  },
  {
   "cell_type": "markdown",
   "metadata": {},
   "source": [
    "# Main Function\n",
    "#### in this section we combine all the smaller functions to perform all the aimed fumctionalities:\n",
    "> - detect player\n",
    "> - extract player position and map onto a 2D image of court\n",
    "> - detect basketball using openCV and classify detected object using a CNN Model\n",
    "> - detect wether the basketball goes in the basket or not"
   ]
  },
  {
   "cell_type": "code",
   "execution_count": 5,
   "metadata": {},
   "outputs": [],
   "source": [
    "# Main App Function\n",
    "def main_app(path, court_image, pts_3D, pts_2D):\n",
    "    shot_xy_coordinates = []\n",
    "    miss_shots = 0\n",
    "    made_shots = 0\n",
    "    \n",
    "    fvs = FileVideoStream(path).start()\n",
    "    time.sleep(1.0)\n",
    "    fps = FPS().start()\n",
    "\n",
    "    while fvs.more():\n",
    "        frame = fvs.read()\n",
    "\n",
    "        # break out of the application if we have no more frames to read\n",
    "        if frame is None:\n",
    "            break\n",
    "            \n",
    "        # resize frame so to make its constant size througout\n",
    "        frame = cv2.resize(frame,(600, 400))\n",
    "        \n",
    "        \n",
    "        compare_frame = frame[int(80):int(130),int(280):int(325)] \n",
    "        compare_frame = cv2.cvtColor(compare_frame, cv2.COLOR_BGR2GRAY)\n",
    "            \n",
    "        # detect ball using YOLO\n",
    "        target_b = \"ball\"\n",
    "        frame, detected, _, _, _ = yolo.yolo_detection(target_b, frame)\n",
    "        \n",
    "        # detect person using YOLO\n",
    "        target_p = \"person\"\n",
    "        frame, detected, xx, yy, h = yolo.yolo_detection(target_p, frame)\n",
    "        \n",
    "        # extract player position and map into 2D court\n",
    "        warped_frame, mask, court_2D, player_x_coordinate, player_y_coordinate = pex.estimate_position(frame, court_image, pts_3D, pts_2D)\n",
    "        cv2.putText(frame, \n",
    "                    f'(x={round(player_x_coordinate, 2)}, y={round(player_y_coordinate, 2)})', \n",
    "                    (int(xx - 60), int(yy + (h/2) + 15)), \n",
    "                    cv2.FONT_HERSHEY_SIMPLEX, 0.4, (25, 255, 25), 1 )\n",
    "\n",
    "        imc_read = cv2.imread(\"images/compare_image.png\")\n",
    "        imc_resize = cv2.resize(imc_read, (600,400))\n",
    "        imc_cvt = cv2.cvtColor(imc_resize, cv2.COLOR_BGR2GRAY)\n",
    "        image_to_compare = imc_cvt[int(80):int(130),int(280):int(325)] \n",
    "        \n",
    "        ssim = scn.compare_images(compare_frame, image_to_compare)\n",
    "\n",
    "        # if ssi scores is over 0.9 (meaning good match)\n",
    "        if ssim > 0.9:\n",
    "            made_shots = 1\n",
    "            cv2.putText(frame, \"!! SCORE !!\", (150, 200), cv2.FONT_HERSHEY_SIMPLEX, 2, (2, 255, 100), 2 )\n",
    "            cv2.putText(court_2D, \"!! SCORE !!\", (150, 200), cv2.FONT_HERSHEY_SIMPLEX, 2, (2, 255, 100), 2 )\n",
    "\n",
    "        # if YOLO doesnt detect ball use opencv method\n",
    "        if detected == False:\n",
    "            x, y, frame = opencv_ball_detection(frame, True)\n",
    "            shot_xy_coordinates.append((x,y))\n",
    "\n",
    "        # plot results\n",
    "        fig, (ax1, ax2, ax3) = plt.subplots(1, 3, figsize=(24, 8))\n",
    "\n",
    "        ax1.set_title(\"Warped Image\")\n",
    "        ax2.set_title(\"Mask\")\n",
    "        ax3.set_title(\"Estimate Player Position\")\n",
    "\n",
    "        ax1.imshow(warped_frame)\n",
    "        ax2.imshow(mask)\n",
    "        ax3.imshow(cv2.cvtColor(court_2D, cv2.COLOR_BGR2RGB))\n",
    "        plt.show()\n",
    "        clear_output(wait=True)\n",
    "\n",
    "    fps.stop()\n",
    "    print(\"[INFO] elasped time: {:.2f}\".format(fps.elapsed()))\n",
    "    print(\"[INFO] approx. FPS: {:.2f}\".format(fps.fps()))"
   ]
  },
  {
   "cell_type": "code",
   "execution_count": 8,
   "metadata": {},
   "outputs": [],
   "source": [
    "def insert_board(frame, make, miss):\n",
    "    # import the score board  image\n",
    "    score_board = cv2.imread('images/score_board.png')\n",
    "    score_board = cv2.resize(score_board, (150, 100))\n",
    "    \n",
    "    x_offset = int(450)\n",
    "    y_offset = int(300)\n",
    "    \n",
    "    # replace frame roi with the score_board\n",
    "    frame[ y_offset:y_offset+score_board.shape[0], x_offset:x_offset+score_board.shape[1]] = score_board\n",
    "    frame = cv2.cvtColor(frame, cv2.COLOR_BGR2RGB)\n",
    "    \n",
    "    # MAKE SLOT\n",
    "    cv2.putText(frame, \"MAKE\", (470, 310), cv2.FONT_HERSHEY_SIMPLEX, 0.4, (255, 255, 0), 1 )\n",
    "    cv2.putText(frame, str(make), (470, 375), cv2.FONT_HERSHEY_SIMPLEX, 1.5, (255, 255, 0), 2 )\n",
    "    \n",
    "    # MISS SLOT\n",
    "    cv2.putText(frame, \"MISS\", (550, 310), cv2.FONT_HERSHEY_SIMPLEX, 0.4, (255, 255, 0), 1 )\n",
    "    cv2.putText(frame, str(miss), (550, 375), cv2.FONT_HERSHEY_SIMPLEX, 1.5, (255, 255, 0), 2)\n",
    "    \n",
    "    return frame"
   ]
  },
  {
   "cell_type": "code",
   "execution_count": 9,
   "metadata": {},
   "outputs": [
    {
     "name": "stdout",
     "output_type": "stream",
     "text": [
      "[INFO] elasped time: 619.63\n",
      "[INFO] approx. FPS: 0.00\n"
     ]
    }
   ],
   "source": [
    "if DEBUG:\n",
    "    main_app(path, court_image, pts_3D, pts_2D)"
   ]
  },
  {
   "cell_type": "code",
   "execution_count": null,
   "metadata": {},
   "outputs": [],
   "source": []
  }
 ],
 "metadata": {
  "kernelspec": {
   "display_name": "Python 3",
   "language": "python",
   "name": "python3"
  },
  "language_info": {
   "codemirror_mode": {
    "name": "ipython",
    "version": 3
   },
   "file_extension": ".py",
   "mimetype": "text/x-python",
   "name": "python",
   "nbconvert_exporter": "python",
   "pygments_lexer": "ipython3",
   "version": "3.7.7"
  }
 },
 "nbformat": 4,
 "nbformat_minor": 4
}
